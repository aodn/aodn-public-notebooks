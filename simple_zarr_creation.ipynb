{
 "cells": [
  {
   "cell_type": "code",
   "execution_count": 1,
   "metadata": {},
   "outputs": [],
   "source": [
    "import xarray as xr\n",
    "import s3fs"
   ]
  },
  {
   "cell_type": "code",
   "execution_count": 2,
   "metadata": {},
   "outputs": [],
   "source": [
    "s3 = s3fs.S3FileSystem(anon=True)\n",
    "\n",
    "files = s3.glob(\"s3://imos-data/IMOS/SRS/SST/ghrsst/L3S-1d/day/2022/\")"
   ]
  },
  {
   "cell_type": "code",
   "execution_count": 3,
   "metadata": {},
   "outputs": [
    {
     "name": "stdout",
     "output_type": "stream",
     "text": [
      "Working on imos-data/IMOS/SRS/SST/ghrsst/L3S-1d/day/2022/20220101032000-ABOM-L3S_GHRSST-SSTskin-AVHRR_D-1d_day.nc\n",
      "trying appending\n",
      "Working on imos-data/IMOS/SRS/SST/ghrsst/L3S-1d/day/2022/20220102032000-ABOM-L3S_GHRSST-SSTskin-AVHRR_D-1d_day.nc\n",
      "trying appending\n",
      "Working on imos-data/IMOS/SRS/SST/ghrsst/L3S-1d/day/2022/20220103032000-ABOM-L3S_GHRSST-SSTskin-AVHRR_D-1d_day.nc\n",
      "trying appending\n",
      "Failed to write with exception 'quality_level'\n",
      "Working on imos-data/IMOS/SRS/SST/ghrsst/L3S-1d/day/2022/20220104032000-ABOM-L3S_GHRSST-SSTskin-AVHRR_D-1d_day.nc\n",
      "trying appending\n",
      "Failed to write with exception 'quality_level'\n",
      "Working on imos-data/IMOS/SRS/SST/ghrsst/L3S-1d/day/2022/20220105032000-ABOM-L3S_GHRSST-SSTskin-AVHRR_D-1d_day.nc\n",
      "trying appending\n",
      "Failed to write with exception 'quality_level'\n",
      "Working on imos-data/IMOS/SRS/SST/ghrsst/L3S-1d/day/2022/20220106032000-ABOM-L3S_GHRSST-SSTskin-AVHRR_D-1d_day.nc\n",
      "trying appending\n",
      "Failed to write with exception 'quality_level'\n",
      "Working on imos-data/IMOS/SRS/SST/ghrsst/L3S-1d/day/2022/20220107032000-ABOM-L3S_GHRSST-SSTskin-AVHRR_D-1d_day.nc\n",
      "trying appending\n",
      "Failed to write with exception 'quality_level'\n",
      "Working on imos-data/IMOS/SRS/SST/ghrsst/L3S-1d/day/2022/20220108032000-ABOM-L3S_GHRSST-SSTskin-AVHRR_D-1d_day.nc\n",
      "trying appending\n",
      "Failed to write with exception 'quality_level'\n",
      "Working on imos-data/IMOS/SRS/SST/ghrsst/L3S-1d/day/2022/20220109032000-ABOM-L3S_GHRSST-SSTskin-AVHRR_D-1d_day.nc\n",
      "trying appending\n",
      "Failed to write with exception 'quality_level'\n",
      "Working on imos-data/IMOS/SRS/SST/ghrsst/L3S-1d/day/2022/20220110032000-ABOM-L3S_GHRSST-SSTskin-AVHRR_D-1d_day.nc\n",
      "trying appending\n",
      "Failed to write with exception 'quality_level'\n",
      "Working on imos-data/IMOS/SRS/SST/ghrsst/L3S-1d/day/2022/20220111032000-ABOM-L3S_GHRSST-SSTskin-AVHRR_D-1d_day.nc\n",
      "trying appending\n",
      "Failed to write with exception 'quality_level'\n",
      "Working on imos-data/IMOS/SRS/SST/ghrsst/L3S-1d/day/2022/20220112032000-ABOM-L3S_GHRSST-SSTskin-AVHRR_D-1d_day.nc\n",
      "trying appending\n",
      "Failed to write with exception 'quality_level'\n",
      "Working on imos-data/IMOS/SRS/SST/ghrsst/L3S-1d/day/2022/20220113032000-ABOM-L3S_GHRSST-SSTskin-AVHRR_D-1d_day.nc\n",
      "trying appending\n",
      "Failed to write with exception 'quality_level'\n",
      "Working on imos-data/IMOS/SRS/SST/ghrsst/L3S-1d/day/2022/20220114032000-ABOM-L3S_GHRSST-SSTskin-AVHRR_D-1d_day.nc\n",
      "trying appending\n",
      "Failed to write with exception 'quality_level'\n",
      "Working on imos-data/IMOS/SRS/SST/ghrsst/L3S-1d/day/2022/20220115032000-ABOM-L3S_GHRSST-SSTskin-AVHRR_D-1d_day.nc\n",
      "trying appending\n",
      "Failed to write with exception 'quality_level'\n",
      "Working on imos-data/IMOS/SRS/SST/ghrsst/L3S-1d/day/2022/20220116032000-ABOM-L3S_GHRSST-SSTskin-AVHRR_D-1d_day.nc\n"
     ]
    },
    {
     "ename": "FSTimeoutError",
     "evalue": "",
     "output_type": "error",
     "traceback": [
      "\u001b[0;31m---------------------------------------------------------------------------\u001b[0m",
      "\u001b[0;31mServerTimeoutError\u001b[0m                        Traceback (most recent call last)",
      "File \u001b[0;32m/usr/local/lib/python3.9/site-packages/aiobotocore/response.py:57\u001b[0m, in \u001b[0;36mStreamingBody.read\u001b[0;34m(self, amt)\u001b[0m\n\u001b[1;32m     56\u001b[0m \u001b[39mtry\u001b[39;00m:\n\u001b[0;32m---> 57\u001b[0m     chunk \u001b[39m=\u001b[39m \u001b[39mawait\u001b[39;00m \u001b[39mself\u001b[39m\u001b[39m.\u001b[39m__wrapped__\u001b[39m.\u001b[39mcontent\u001b[39m.\u001b[39mread(\n\u001b[1;32m     58\u001b[0m         amt \u001b[39mif\u001b[39;00m amt \u001b[39mis\u001b[39;00m \u001b[39mnot\u001b[39;00m \u001b[39mNone\u001b[39;00m \u001b[39melse\u001b[39;00m \u001b[39m-\u001b[39m\u001b[39m1\u001b[39m\n\u001b[1;32m     59\u001b[0m     )\n\u001b[1;32m     60\u001b[0m \u001b[39mexcept\u001b[39;00m asyncio\u001b[39m.\u001b[39mTimeoutError \u001b[39mas\u001b[39;00m e:\n",
      "File \u001b[0;32m/usr/local/lib/python3.9/site-packages/aiohttp/streams.py:375\u001b[0m, in \u001b[0;36mStreamReader.read\u001b[0;34m(self, n)\u001b[0m\n\u001b[1;32m    374\u001b[0m \u001b[39mwhile\u001b[39;00m \u001b[39mTrue\u001b[39;00m:\n\u001b[0;32m--> 375\u001b[0m     block \u001b[39m=\u001b[39m \u001b[39mawait\u001b[39;00m \u001b[39mself\u001b[39m\u001b[39m.\u001b[39mreadany()\n\u001b[1;32m    376\u001b[0m     \u001b[39mif\u001b[39;00m \u001b[39mnot\u001b[39;00m block:\n",
      "File \u001b[0;32m/usr/local/lib/python3.9/site-packages/aiohttp/streams.py:397\u001b[0m, in \u001b[0;36mStreamReader.readany\u001b[0;34m(self)\u001b[0m\n\u001b[1;32m    396\u001b[0m \u001b[39mwhile\u001b[39;00m \u001b[39mnot\u001b[39;00m \u001b[39mself\u001b[39m\u001b[39m.\u001b[39m_buffer \u001b[39mand\u001b[39;00m \u001b[39mnot\u001b[39;00m \u001b[39mself\u001b[39m\u001b[39m.\u001b[39m_eof:\n\u001b[0;32m--> 397\u001b[0m     \u001b[39mawait\u001b[39;00m \u001b[39mself\u001b[39m\u001b[39m.\u001b[39m_wait(\u001b[39m\"\u001b[39m\u001b[39mreadany\u001b[39m\u001b[39m\"\u001b[39m)\n\u001b[1;32m    399\u001b[0m \u001b[39mreturn\u001b[39;00m \u001b[39mself\u001b[39m\u001b[39m.\u001b[39m_read_nowait(\u001b[39m-\u001b[39m\u001b[39m1\u001b[39m)\n",
      "File \u001b[0;32m/usr/local/lib/python3.9/site-packages/aiohttp/streams.py:304\u001b[0m, in \u001b[0;36mStreamReader._wait\u001b[0;34m(self, func_name)\u001b[0m\n\u001b[1;32m    303\u001b[0m     \u001b[39mwith\u001b[39;00m \u001b[39mself\u001b[39m\u001b[39m.\u001b[39m_timer:\n\u001b[0;32m--> 304\u001b[0m         \u001b[39mawait\u001b[39;00m waiter\n\u001b[1;32m    305\u001b[0m \u001b[39melse\u001b[39;00m:\n",
      "\u001b[0;31mServerTimeoutError\u001b[0m: Timeout on reading data from socket",
      "\nDuring handling of the above exception, another exception occurred:\n",
      "\u001b[0;31mAioReadTimeoutError\u001b[0m                       Traceback (most recent call last)",
      "File \u001b[0;32m/usr/local/lib/python3.9/site-packages/fsspec/asyn.py:53\u001b[0m, in \u001b[0;36m_runner\u001b[0;34m(event, coro, result, timeout)\u001b[0m\n\u001b[1;32m     52\u001b[0m \u001b[39mtry\u001b[39;00m:\n\u001b[0;32m---> 53\u001b[0m     result[\u001b[39m0\u001b[39m] \u001b[39m=\u001b[39m \u001b[39mawait\u001b[39;00m coro\n\u001b[1;32m     54\u001b[0m \u001b[39mexcept\u001b[39;00m \u001b[39mException\u001b[39;00m \u001b[39mas\u001b[39;00m ex:\n",
      "File \u001b[0;32m/usr/local/lib/python3.9/site-packages/aiobotocore/response.py:61\u001b[0m, in \u001b[0;36mStreamingBody.read\u001b[0;34m(self, amt)\u001b[0m\n\u001b[1;32m     60\u001b[0m \u001b[39mexcept\u001b[39;00m asyncio\u001b[39m.\u001b[39mTimeoutError \u001b[39mas\u001b[39;00m e:\n\u001b[0;32m---> 61\u001b[0m     \u001b[39mraise\u001b[39;00m AioReadTimeoutError(\n\u001b[1;32m     62\u001b[0m         endpoint_url\u001b[39m=\u001b[39m\u001b[39mself\u001b[39m\u001b[39m.\u001b[39m__wrapped__\u001b[39m.\u001b[39murl, error\u001b[39m=\u001b[39me\n\u001b[1;32m     63\u001b[0m     )\n\u001b[1;32m     64\u001b[0m \u001b[39mexcept\u001b[39;00m aiohttp\u001b[39m.\u001b[39mclient_exceptions\u001b[39m.\u001b[39mClientConnectionError \u001b[39mas\u001b[39;00m e:\n",
      "\u001b[0;31mAioReadTimeoutError\u001b[0m: Read timeout on endpoint URL: \"https://imos-data.s3.ap-southeast-2.amazonaws.com/IMOS/SRS/SST/ghrsst/L3S-1d/day/2022/20220116032000-ABOM-L3S_GHRSST-SSTskin-AVHRR_D-1d_day.nc\"",
      "\nThe above exception was the direct cause of the following exception:\n",
      "\u001b[0;31mFSTimeoutError\u001b[0m                            Traceback (most recent call last)",
      "\u001b[1;32m/Users/alex/git/aodn/aodn-public-notebooks/simple_zarr_creation.ipynb Cell 3\u001b[0m in \u001b[0;36m<cell line: 1>\u001b[0;34m()\u001b[0m\n\u001b[1;32m      <a href='vscode-notebook-cell:/Users/alex/git/aodn/aodn-public-notebooks/simple_zarr_creation.ipynb#W2sZmlsZQ%3D%3D?line=1'>2</a>\u001b[0m \u001b[39mwith\u001b[39;00m s3\u001b[39m.\u001b[39mopen(file) \u001b[39mas\u001b[39;00m f:\n\u001b[1;32m      <a href='vscode-notebook-cell:/Users/alex/git/aodn/aodn-public-notebooks/simple_zarr_creation.ipynb#W2sZmlsZQ%3D%3D?line=2'>3</a>\u001b[0m     \u001b[39mprint\u001b[39m(\u001b[39mf\u001b[39m\u001b[39m\"\u001b[39m\u001b[39mWorking on \u001b[39m\u001b[39m{\u001b[39;00mfile\u001b[39m}\u001b[39;00m\u001b[39m\"\u001b[39m)\n\u001b[0;32m----> <a href='vscode-notebook-cell:/Users/alex/git/aodn/aodn-public-notebooks/simple_zarr_creation.ipynb#W2sZmlsZQ%3D%3D?line=3'>4</a>\u001b[0m     data \u001b[39m=\u001b[39m xr\u001b[39m.\u001b[39;49mopen_dataset(f, engine\u001b[39m=\u001b[39;49m\u001b[39m\"\u001b[39;49m\u001b[39mh5netcdf\u001b[39;49m\u001b[39m\"\u001b[39;49m)\n\u001b[1;32m      <a href='vscode-notebook-cell:/Users/alex/git/aodn/aodn-public-notebooks/simple_zarr_creation.ipynb#W2sZmlsZQ%3D%3D?line=4'>5</a>\u001b[0m     \u001b[39mtry\u001b[39;00m:\n\u001b[1;32m      <a href='vscode-notebook-cell:/Users/alex/git/aodn/aodn-public-notebooks/simple_zarr_creation.ipynb#W2sZmlsZQ%3D%3D?line=5'>6</a>\u001b[0m         \u001b[39mprint\u001b[39m(\u001b[39m\"\u001b[39m\u001b[39mtrying appending\u001b[39m\u001b[39m\"\u001b[39m)\n",
      "File \u001b[0;32m/usr/local/lib/python3.9/site-packages/xarray/backends/api.py:531\u001b[0m, in \u001b[0;36mopen_dataset\u001b[0;34m(filename_or_obj, engine, chunks, cache, decode_cf, mask_and_scale, decode_times, decode_timedelta, use_cftime, concat_characters, decode_coords, drop_variables, inline_array, backend_kwargs, **kwargs)\u001b[0m\n\u001b[1;32m    519\u001b[0m decoders \u001b[39m=\u001b[39m _resolve_decoders_kwargs(\n\u001b[1;32m    520\u001b[0m     decode_cf,\n\u001b[1;32m    521\u001b[0m     open_backend_dataset_parameters\u001b[39m=\u001b[39mbackend\u001b[39m.\u001b[39mopen_dataset_parameters,\n\u001b[0;32m   (...)\u001b[0m\n\u001b[1;32m    527\u001b[0m     decode_coords\u001b[39m=\u001b[39mdecode_coords,\n\u001b[1;32m    528\u001b[0m )\n\u001b[1;32m    530\u001b[0m overwrite_encoded_chunks \u001b[39m=\u001b[39m kwargs\u001b[39m.\u001b[39mpop(\u001b[39m\"\u001b[39m\u001b[39moverwrite_encoded_chunks\u001b[39m\u001b[39m\"\u001b[39m, \u001b[39mNone\u001b[39;00m)\n\u001b[0;32m--> 531\u001b[0m backend_ds \u001b[39m=\u001b[39m backend\u001b[39m.\u001b[39;49mopen_dataset(\n\u001b[1;32m    532\u001b[0m     filename_or_obj,\n\u001b[1;32m    533\u001b[0m     drop_variables\u001b[39m=\u001b[39;49mdrop_variables,\n\u001b[1;32m    534\u001b[0m     \u001b[39m*\u001b[39;49m\u001b[39m*\u001b[39;49mdecoders,\n\u001b[1;32m    535\u001b[0m     \u001b[39m*\u001b[39;49m\u001b[39m*\u001b[39;49mkwargs,\n\u001b[1;32m    536\u001b[0m )\n\u001b[1;32m    537\u001b[0m ds \u001b[39m=\u001b[39m _dataset_from_backend_dataset(\n\u001b[1;32m    538\u001b[0m     backend_ds,\n\u001b[1;32m    539\u001b[0m     filename_or_obj,\n\u001b[0;32m   (...)\u001b[0m\n\u001b[1;32m    547\u001b[0m     \u001b[39m*\u001b[39m\u001b[39m*\u001b[39mkwargs,\n\u001b[1;32m    548\u001b[0m )\n\u001b[1;32m    549\u001b[0m \u001b[39mreturn\u001b[39;00m ds\n",
      "File \u001b[0;32m/usr/local/lib/python3.9/site-packages/xarray/backends/h5netcdf_.py:389\u001b[0m, in \u001b[0;36mH5netcdfBackendEntrypoint.open_dataset\u001b[0;34m(self, filename_or_obj, mask_and_scale, decode_times, concat_characters, decode_coords, drop_variables, use_cftime, decode_timedelta, format, group, lock, invalid_netcdf, phony_dims, decode_vlen_strings)\u001b[0m\n\u001b[1;32m    369\u001b[0m \u001b[39mdef\u001b[39;00m \u001b[39mopen_dataset\u001b[39m(\n\u001b[1;32m    370\u001b[0m     \u001b[39mself\u001b[39m,\n\u001b[1;32m    371\u001b[0m     filename_or_obj,\n\u001b[0;32m   (...)\u001b[0m\n\u001b[1;32m    385\u001b[0m     decode_vlen_strings\u001b[39m=\u001b[39m\u001b[39mTrue\u001b[39;00m,\n\u001b[1;32m    386\u001b[0m ):\n\u001b[1;32m    388\u001b[0m     filename_or_obj \u001b[39m=\u001b[39m _normalize_path(filename_or_obj)\n\u001b[0;32m--> 389\u001b[0m     store \u001b[39m=\u001b[39m H5NetCDFStore\u001b[39m.\u001b[39;49mopen(\n\u001b[1;32m    390\u001b[0m         filename_or_obj,\n\u001b[1;32m    391\u001b[0m         \u001b[39mformat\u001b[39;49m\u001b[39m=\u001b[39;49m\u001b[39mformat\u001b[39;49m,\n\u001b[1;32m    392\u001b[0m         group\u001b[39m=\u001b[39;49mgroup,\n\u001b[1;32m    393\u001b[0m         lock\u001b[39m=\u001b[39;49mlock,\n\u001b[1;32m    394\u001b[0m         invalid_netcdf\u001b[39m=\u001b[39;49minvalid_netcdf,\n\u001b[1;32m    395\u001b[0m         phony_dims\u001b[39m=\u001b[39;49mphony_dims,\n\u001b[1;32m    396\u001b[0m         decode_vlen_strings\u001b[39m=\u001b[39;49mdecode_vlen_strings,\n\u001b[1;32m    397\u001b[0m     )\n\u001b[1;32m    399\u001b[0m     store_entrypoint \u001b[39m=\u001b[39m StoreBackendEntrypoint()\n\u001b[1;32m    401\u001b[0m     ds \u001b[39m=\u001b[39m store_entrypoint\u001b[39m.\u001b[39mopen_dataset(\n\u001b[1;32m    402\u001b[0m         store,\n\u001b[1;32m    403\u001b[0m         mask_and_scale\u001b[39m=\u001b[39mmask_and_scale,\n\u001b[0;32m   (...)\u001b[0m\n\u001b[1;32m    409\u001b[0m         decode_timedelta\u001b[39m=\u001b[39mdecode_timedelta,\n\u001b[1;32m    410\u001b[0m     )\n",
      "File \u001b[0;32m/usr/local/lib/python3.9/site-packages/xarray/backends/h5netcdf_.py:157\u001b[0m, in \u001b[0;36mH5NetCDFStore.open\u001b[0;34m(cls, filename, mode, format, group, lock, autoclose, invalid_netcdf, phony_dims, decode_vlen_strings)\u001b[0m\n\u001b[1;32m    152\u001b[0m     \u001b[39mraise\u001b[39;00m \u001b[39mValueError\u001b[39;00m(\n\u001b[1;32m    153\u001b[0m         \u001b[39m\"\u001b[39m\u001b[39mcan\u001b[39m\u001b[39m'\u001b[39m\u001b[39mt open netCDF4/HDF5 as bytes \u001b[39m\u001b[39m\"\u001b[39m\n\u001b[1;32m    154\u001b[0m         \u001b[39m\"\u001b[39m\u001b[39mtry passing a path or file-like object\u001b[39m\u001b[39m\"\u001b[39m\n\u001b[1;32m    155\u001b[0m     )\n\u001b[1;32m    156\u001b[0m \u001b[39melif\u001b[39;00m \u001b[39misinstance\u001b[39m(filename, io\u001b[39m.\u001b[39mIOBase):\n\u001b[0;32m--> 157\u001b[0m     magic_number \u001b[39m=\u001b[39m read_magic_number_from_file(filename)\n\u001b[1;32m    158\u001b[0m     \u001b[39mif\u001b[39;00m \u001b[39mnot\u001b[39;00m magic_number\u001b[39m.\u001b[39mstartswith(\u001b[39mb\u001b[39m\u001b[39m\"\u001b[39m\u001b[39m\\211\u001b[39;00m\u001b[39mHDF\u001b[39m\u001b[39m\\r\u001b[39;00m\u001b[39m\\n\u001b[39;00m\u001b[39m\\032\u001b[39;00m\u001b[39m\\n\u001b[39;00m\u001b[39m\"\u001b[39m):\n\u001b[1;32m    159\u001b[0m         \u001b[39mraise\u001b[39;00m \u001b[39mValueError\u001b[39;00m(\n\u001b[1;32m    160\u001b[0m             \u001b[39mf\u001b[39m\u001b[39m\"\u001b[39m\u001b[39m{\u001b[39;00mmagic_number\u001b[39m}\u001b[39;00m\u001b[39m is not the signature of a valid netCDF4 file\u001b[39m\u001b[39m\"\u001b[39m\n\u001b[1;32m    161\u001b[0m         )\n",
      "File \u001b[0;32m/usr/local/lib/python3.9/site-packages/xarray/core/utils.py:653\u001b[0m, in \u001b[0;36mread_magic_number_from_file\u001b[0;34m(filename_or_obj, count)\u001b[0m\n\u001b[1;32m    647\u001b[0m     \u001b[39mif\u001b[39;00m filename_or_obj\u001b[39m.\u001b[39mtell() \u001b[39m!=\u001b[39m \u001b[39m0\u001b[39m:\n\u001b[1;32m    648\u001b[0m         \u001b[39mraise\u001b[39;00m \u001b[39mValueError\u001b[39;00m(\n\u001b[1;32m    649\u001b[0m             \u001b[39m\"\u001b[39m\u001b[39mcannot guess the engine, \u001b[39m\u001b[39m\"\u001b[39m\n\u001b[1;32m    650\u001b[0m             \u001b[39m\"\u001b[39m\u001b[39mfile-like object read/write pointer not at the start of the file, \u001b[39m\u001b[39m\"\u001b[39m\n\u001b[1;32m    651\u001b[0m             \u001b[39m\"\u001b[39m\u001b[39mplease close and reopen, or use a context manager\u001b[39m\u001b[39m\"\u001b[39m\n\u001b[1;32m    652\u001b[0m         )\n\u001b[0;32m--> 653\u001b[0m     magic_number \u001b[39m=\u001b[39m filename_or_obj\u001b[39m.\u001b[39;49mread(count)\n\u001b[1;32m    654\u001b[0m     filename_or_obj\u001b[39m.\u001b[39mseek(\u001b[39m0\u001b[39m)\n\u001b[1;32m    655\u001b[0m \u001b[39melse\u001b[39;00m:\n",
      "File \u001b[0;32m/usr/local/lib/python3.9/site-packages/fsspec/spec.py:1575\u001b[0m, in \u001b[0;36mAbstractBufferedFile.read\u001b[0;34m(self, length)\u001b[0m\n\u001b[1;32m   1572\u001b[0m \u001b[39mif\u001b[39;00m length \u001b[39m==\u001b[39m \u001b[39m0\u001b[39m:\n\u001b[1;32m   1573\u001b[0m     \u001b[39m# don't even bother calling fetch\u001b[39;00m\n\u001b[1;32m   1574\u001b[0m     \u001b[39mreturn\u001b[39;00m \u001b[39mb\u001b[39m\u001b[39m\"\u001b[39m\u001b[39m\"\u001b[39m\n\u001b[0;32m-> 1575\u001b[0m out \u001b[39m=\u001b[39m \u001b[39mself\u001b[39;49m\u001b[39m.\u001b[39;49mcache\u001b[39m.\u001b[39;49m_fetch(\u001b[39mself\u001b[39;49m\u001b[39m.\u001b[39;49mloc, \u001b[39mself\u001b[39;49m\u001b[39m.\u001b[39;49mloc \u001b[39m+\u001b[39;49m length)\n\u001b[1;32m   1576\u001b[0m \u001b[39mself\u001b[39m\u001b[39m.\u001b[39mloc \u001b[39m+\u001b[39m\u001b[39m=\u001b[39m \u001b[39mlen\u001b[39m(out)\n\u001b[1;32m   1577\u001b[0m \u001b[39mreturn\u001b[39;00m out\n",
      "File \u001b[0;32m/usr/local/lib/python3.9/site-packages/fsspec/caching.py:377\u001b[0m, in \u001b[0;36mBytesCache._fetch\u001b[0;34m(self, start, end)\u001b[0m\n\u001b[1;32m    371\u001b[0m     \u001b[39mreturn\u001b[39;00m \u001b[39mb\u001b[39m\u001b[39m\"\u001b[39m\u001b[39m\"\u001b[39m\n\u001b[1;32m    373\u001b[0m \u001b[39mif\u001b[39;00m (\u001b[39mself\u001b[39m\u001b[39m.\u001b[39mstart \u001b[39mis\u001b[39;00m \u001b[39mNone\u001b[39;00m \u001b[39mor\u001b[39;00m start \u001b[39m<\u001b[39m \u001b[39mself\u001b[39m\u001b[39m.\u001b[39mstart) \u001b[39mand\u001b[39;00m (\n\u001b[1;32m    374\u001b[0m     \u001b[39mself\u001b[39m\u001b[39m.\u001b[39mend \u001b[39mis\u001b[39;00m \u001b[39mNone\u001b[39;00m \u001b[39mor\u001b[39;00m end \u001b[39m>\u001b[39m \u001b[39mself\u001b[39m\u001b[39m.\u001b[39mend\n\u001b[1;32m    375\u001b[0m ):\n\u001b[1;32m    376\u001b[0m     \u001b[39m# First read, or extending both before and after\u001b[39;00m\n\u001b[0;32m--> 377\u001b[0m     \u001b[39mself\u001b[39m\u001b[39m.\u001b[39mcache \u001b[39m=\u001b[39m \u001b[39mself\u001b[39;49m\u001b[39m.\u001b[39;49mfetcher(start, bend)\n\u001b[1;32m    378\u001b[0m     \u001b[39mself\u001b[39m\u001b[39m.\u001b[39mstart \u001b[39m=\u001b[39m start\n\u001b[1;32m    379\u001b[0m \u001b[39melif\u001b[39;00m start \u001b[39m<\u001b[39m \u001b[39mself\u001b[39m\u001b[39m.\u001b[39mstart:\n",
      "File \u001b[0;32m/usr/local/lib/python3.9/site-packages/s3fs/core.py:2038\u001b[0m, in \u001b[0;36mS3File._fetch_range\u001b[0;34m(self, start, end)\u001b[0m\n\u001b[1;32m   2036\u001b[0m \u001b[39mdef\u001b[39;00m \u001b[39m_fetch_range\u001b[39m(\u001b[39mself\u001b[39m, start, end):\n\u001b[1;32m   2037\u001b[0m     \u001b[39mtry\u001b[39;00m:\n\u001b[0;32m-> 2038\u001b[0m         \u001b[39mreturn\u001b[39;00m _fetch_range(\n\u001b[1;32m   2039\u001b[0m             \u001b[39mself\u001b[39;49m\u001b[39m.\u001b[39;49mfs,\n\u001b[1;32m   2040\u001b[0m             \u001b[39mself\u001b[39;49m\u001b[39m.\u001b[39;49mbucket,\n\u001b[1;32m   2041\u001b[0m             \u001b[39mself\u001b[39;49m\u001b[39m.\u001b[39;49mkey,\n\u001b[1;32m   2042\u001b[0m             \u001b[39mself\u001b[39;49m\u001b[39m.\u001b[39;49mversion_id,\n\u001b[1;32m   2043\u001b[0m             start,\n\u001b[1;32m   2044\u001b[0m             end,\n\u001b[1;32m   2045\u001b[0m             req_kw\u001b[39m=\u001b[39;49m\u001b[39mself\u001b[39;49m\u001b[39m.\u001b[39;49mreq_kw,\n\u001b[1;32m   2046\u001b[0m         )\n\u001b[1;32m   2048\u001b[0m     \u001b[39mexcept\u001b[39;00m \u001b[39mOSError\u001b[39;00m \u001b[39mas\u001b[39;00m ex:\n\u001b[1;32m   2049\u001b[0m         \u001b[39mif\u001b[39;00m ex\u001b[39m.\u001b[39margs[\u001b[39m0\u001b[39m] \u001b[39m==\u001b[39m errno\u001b[39m.\u001b[39mEINVAL \u001b[39mand\u001b[39;00m \u001b[39m\"\u001b[39m\u001b[39mpre-conditions\u001b[39m\u001b[39m\"\u001b[39m \u001b[39min\u001b[39;00m ex\u001b[39m.\u001b[39margs[\u001b[39m1\u001b[39m]:\n",
      "File \u001b[0;32m/usr/local/lib/python3.9/site-packages/s3fs/core.py:2189\u001b[0m, in \u001b[0;36m_fetch_range\u001b[0;34m(fs, bucket, key, version_id, start, end, req_kw)\u001b[0m\n\u001b[1;32m   2180\u001b[0m logger\u001b[39m.\u001b[39mdebug(\u001b[39m\"\u001b[39m\u001b[39mFetch: \u001b[39m\u001b[39m%s\u001b[39;00m\u001b[39m/\u001b[39m\u001b[39m%s\u001b[39;00m\u001b[39m, \u001b[39m\u001b[39m%s\u001b[39;00m\u001b[39m-\u001b[39m\u001b[39m%s\u001b[39;00m\u001b[39m\"\u001b[39m, bucket, key, start, end)\n\u001b[1;32m   2181\u001b[0m resp \u001b[39m=\u001b[39m fs\u001b[39m.\u001b[39mcall_s3(\n\u001b[1;32m   2182\u001b[0m     \u001b[39m\"\u001b[39m\u001b[39mget_object\u001b[39m\u001b[39m\"\u001b[39m,\n\u001b[1;32m   2183\u001b[0m     Bucket\u001b[39m=\u001b[39mbucket,\n\u001b[0;32m   (...)\u001b[0m\n\u001b[1;32m   2187\u001b[0m     \u001b[39m*\u001b[39m\u001b[39m*\u001b[39mreq_kw,\n\u001b[1;32m   2188\u001b[0m )\n\u001b[0;32m-> 2189\u001b[0m \u001b[39mreturn\u001b[39;00m sync(fs\u001b[39m.\u001b[39;49mloop, resp[\u001b[39m\"\u001b[39;49m\u001b[39mBody\u001b[39;49m\u001b[39m\"\u001b[39;49m]\u001b[39m.\u001b[39;49mread)\n",
      "File \u001b[0;32m/usr/local/lib/python3.9/site-packages/fsspec/asyn.py:94\u001b[0m, in \u001b[0;36msync\u001b[0;34m(loop, func, timeout, *args, **kwargs)\u001b[0m\n\u001b[1;32m     91\u001b[0m return_result \u001b[39m=\u001b[39m result[\u001b[39m0\u001b[39m]\n\u001b[1;32m     92\u001b[0m \u001b[39mif\u001b[39;00m \u001b[39misinstance\u001b[39m(return_result, asyncio\u001b[39m.\u001b[39mTimeoutError):\n\u001b[1;32m     93\u001b[0m     \u001b[39m# suppress asyncio.TimeoutError, raise FSTimeoutError\u001b[39;00m\n\u001b[0;32m---> 94\u001b[0m     \u001b[39mraise\u001b[39;00m FSTimeoutError \u001b[39mfrom\u001b[39;00m \u001b[39mreturn_result\u001b[39;00m\n\u001b[1;32m     95\u001b[0m \u001b[39melif\u001b[39;00m \u001b[39misinstance\u001b[39m(return_result, \u001b[39mBaseException\u001b[39;00m):\n\u001b[1;32m     96\u001b[0m     \u001b[39mraise\u001b[39;00m return_result\n",
      "\u001b[0;31mFSTimeoutError\u001b[0m: "
     ]
    }
   ],
   "source": [
    "# init_drop_vars = {'adi_dtime_from_sst', \n",
    "#             'aerosol_dynamic_indicator', \n",
    "#             'sea_ice_fraction', \n",
    "#             'sea_ice_fraction_dtime_from_sst', \n",
    "#             'sst_dtime', 'sst_count', \n",
    "#             'sst_mean', \n",
    "#             'sst_standard_deviation', \n",
    "#             'wind_speed', \n",
    "#             'wind_speed_dtime_from_sst'}\n",
    "consistent_vars = {'time',\n",
    "                    'lat',\n",
    "                    'lon',\n",
    "                    'dt_analysis',\n",
    "                    'l2p_flags',\n",
    "                    'quality_level',\n",
    "                    'satellite_zenith_angle',\n",
    "                    'sea_surface_temperature',\n",
    "                    'sses_bias',\n",
    "                    'sses_count',\n",
    "                    'sses_standard_deviation',\n",
    "                    'sst_dtime'}\n",
    "\n",
    "for file in files:\n",
    "    with s3.open(file) as f:\n",
    "        print(f\"Working on {file}\")\n",
    "        data = xr.open_dataset(f, engine=\"h5netcdf\")\n",
    "        available_vars = set(data.variables)\n",
    "        to_drop_vars = list(available_vars - consistent_vars)\n",
    "        ds = data.drop_vars(to_drop_vars)\n",
    "        chunked = ds.chunk(chunks={'lat': 1000, 'lon': 1000}) # TODO: optimal chunk?\n",
    "        for var in chunked.data_vars:\n",
    "            chunked[var].encoding = {}\n",
    "        try:\n",
    "            print(\"trying appending\")\n",
    "            chunked.to_zarr(\"s3://imos-data-pixeldrill/alexl\", group=\"sst\", mode=\"a\")\n",
    "        except Exception as e:\n",
    "            print(f\"Failed to write with exception {e}\")\n",
    "# data"
   ]
  },
  {
   "cell_type": "code",
   "execution_count": null,
   "metadata": {},
   "outputs": [],
   "source": []
  }
 ],
 "metadata": {
  "kernelspec": {
   "display_name": "Python 3.9.13 64-bit",
   "language": "python",
   "name": "python3"
  },
  "language_info": {
   "codemirror_mode": {
    "name": "ipython",
    "version": 3
   },
   "file_extension": ".py",
   "mimetype": "text/x-python",
   "name": "python",
   "nbconvert_exporter": "python",
   "pygments_lexer": "ipython3",
   "version": "3.9.13"
  },
  "orig_nbformat": 4,
  "vscode": {
   "interpreter": {
    "hash": "aee8b7b246df8f9039afb4144a1f6fd8d2ca17a180786b69acc140d282b71a49"
   }
  }
 },
 "nbformat": 4,
 "nbformat_minor": 2
}
