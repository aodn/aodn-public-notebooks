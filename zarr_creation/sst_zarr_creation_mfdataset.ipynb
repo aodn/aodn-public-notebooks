{
 "cells": [
  {
   "cell_type": "code",
   "execution_count": 6,
   "metadata": {},
   "outputs": [],
   "source": [
    "import xarray as xr\n",
    "import s3fs"
   ]
  },
  {
   "cell_type": "code",
   "execution_count": 7,
   "metadata": {},
   "outputs": [],
   "source": [
    "source_path = \"s3://imos-data/IMOS/SRS/SST/ghrsst/L3S-1d/day/2022/*.nc\"\n",
    "store_path = \"s3://imos-data-pixeldrill/alexl/sst_allatonce/\""
   ]
  },
  {
   "cell_type": "code",
   "execution_count": 8,
   "metadata": {},
   "outputs": [],
   "source": [
    "s3 = s3fs.S3FileSystem(anon=False)\n",
    "glob_result = s3.glob(source_path)\n",
    "\n",
    "paths = [s3.open(file) for file in glob_result]"
   ]
  },
  {
   "cell_type": "code",
   "execution_count": 9,
   "metadata": {},
   "outputs": [],
   "source": [
    "ds = xr.open_mfdataset(paths[0:10], engine=\"h5netcdf\", chunks={})"
   ]
  },
  {
   "cell_type": "code",
   "execution_count": 23,
   "metadata": {},
   "outputs": [],
   "source": [
    "import rechunker\n",
    "\n",
    "s3store = s3fs.S3Map(root='imos-data-pixeldrill/alexl/sst_allatonce/sst.zarr', create=True, s3=s3)\n",
    "s3_tmp_store = s3fs.S3Map(root='imos-data-pixeldrill/alexl/tmp/sst.zarr', create=True, s3=s3)\n",
    "data = rechunker.rechunk(ds, {\"time\": 1, \"lon\": 1000, \"lat\": 1000}, \"2GB\", s3store, temp_store=s3_tmp_store)"
   ]
  },
  {
   "cell_type": "code",
   "execution_count": null,
   "metadata": {},
   "outputs": [],
   "source": [
    "ds.to_zarr(store_path)"
   ]
  },
  {
   "cell_type": "code",
   "execution_count": 26,
   "metadata": {},
   "outputs": [
    {
     "data": {
      "text/plain": [
       "<zarr.hierarchy.Group '/'>"
      ]
     },
     "execution_count": 26,
     "metadata": {},
     "output_type": "execute_result"
    }
   ],
   "source": [
    "data.execute()"
   ]
  },
  {
   "cell_type": "code",
   "execution_count": null,
   "metadata": {},
   "outputs": [],
   "source": []
  }
 ],
 "metadata": {
  "kernelspec": {
   "display_name": "Python 3.9.13 64-bit",
   "language": "python",
   "name": "python3"
  },
  "language_info": {
   "codemirror_mode": {
    "name": "ipython",
    "version": 3
   },
   "file_extension": ".py",
   "mimetype": "text/x-python",
   "name": "python",
   "nbconvert_exporter": "python",
   "pygments_lexer": "ipython3",
   "version": "3.9.13"
  },
  "orig_nbformat": 4,
  "vscode": {
   "interpreter": {
    "hash": "aee8b7b246df8f9039afb4144a1f6fd8d2ca17a180786b69acc140d282b71a49"
   }
  }
 },
 "nbformat": 4,
 "nbformat_minor": 2
}
