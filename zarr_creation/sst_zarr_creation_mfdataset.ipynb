{
 "cells": [
  {
   "cell_type": "code",
   "execution_count": 1,
   "metadata": {},
   "outputs": [],
   "source": [
    "import s3fs\n",
    "import xarray as xr\n",
    "from toolz import partition\n"
   ]
  },
  {
   "cell_type": "code",
   "execution_count": 2,
   "metadata": {},
   "outputs": [],
   "source": [
    "CONSISTENT_VARS = {\n",
    "    \"time\",\n",
    "    \"lat\",\n",
    "    \"lon\",\n",
    "    \"dt_analysis\",\n",
    "    \"l2p_flags\",\n",
    "    \"quality_level\",\n",
    "    \"satellite_zenith_angle\",\n",
    "    \"sea_surface_temperature\",\n",
    "    \"sses_bias\",\n",
    "    \"sses_count\",\n",
    "    \"sses_standard_deviation\",\n",
    "    \"sst_dtime\",\n",
    "}"
   ]
  },
  {
   "cell_type": "code",
   "execution_count": 3,
   "metadata": {},
   "outputs": [],
   "source": [
    "source_path = \"s3://imos-data/IMOS/SRS/SST/ghrsst/L3S-1d/day/2022/*.nc\"\n",
    "store_path = \"s3://imos-data-pixeldrill/alexl/sst_allatonce/\""
   ]
  },
  {
   "cell_type": "code",
   "execution_count": 4,
   "metadata": {},
   "outputs": [],
   "source": [
    "s3 = s3fs.S3FileSystem(anon=False)\n",
    "files = s3.glob(source_path)"
   ]
  },
  {
   "cell_type": "code",
   "execution_count": 23,
   "metadata": {},
   "outputs": [
    {
     "ename": "ContainsArrayError",
     "evalue": "path 'lat' contains an array",
     "output_type": "error",
     "traceback": [
      "\u001b[0;31m---------------------------------------------------------------------------\u001b[0m",
      "\u001b[0;31mContainsArrayError\u001b[0m                        Traceback (most recent call last)",
      "\u001b[1;32m/Users/alex/git/aodn/aodn-public-notebooks/zarr_creation/sst_zarr_creation_mfdataset.ipynb Cell 5\u001b[0m in \u001b[0;36m<cell line: 1>\u001b[0;34m()\u001b[0m\n\u001b[1;32m      <a href='vscode-notebook-cell:/Users/alex/git/aodn/aodn-public-notebooks/zarr_creation/sst_zarr_creation_mfdataset.ipynb#W3sZmlsZQ%3D%3D?line=7'>8</a>\u001b[0m \u001b[39m# ds.chunks = {\"time\": 10, \"lon\": 1000, \"lat\": 1000}\u001b[39;00m\n\u001b[1;32m      <a href='vscode-notebook-cell:/Users/alex/git/aodn/aodn-public-notebooks/zarr_creation/sst_zarr_creation_mfdataset.ipynb#W3sZmlsZQ%3D%3D?line=8'>9</a>\u001b[0m \n\u001b[1;32m     <a href='vscode-notebook-cell:/Users/alex/git/aodn/aodn-public-notebooks/zarr_creation/sst_zarr_creation_mfdataset.ipynb#W3sZmlsZQ%3D%3D?line=9'>10</a>\u001b[0m \u001b[39m# ds.to_zarr(store_path, mode=\"w\", consolidated=True)\u001b[39;00m\n\u001b[1;32m     <a href='vscode-notebook-cell:/Users/alex/git/aodn/aodn-public-notebooks/zarr_creation/sst_zarr_creation_mfdataset.ipynb#W3sZmlsZQ%3D%3D?line=11'>12</a>\u001b[0m s3store \u001b[39m=\u001b[39m s3fs\u001b[39m.\u001b[39mS3Map(root\u001b[39m=\u001b[39m\u001b[39m'\u001b[39m\u001b[39mimos-data-pixeldrill/alexl/sst_year/sst.zarr\u001b[39m\u001b[39m'\u001b[39m, create\u001b[39m=\u001b[39m\u001b[39mTrue\u001b[39;00m, s3\u001b[39m=\u001b[39ms3)\n\u001b[0;32m---> <a href='vscode-notebook-cell:/Users/alex/git/aodn/aodn-public-notebooks/zarr_creation/sst_zarr_creation_mfdataset.ipynb#W3sZmlsZQ%3D%3D?line=12'>13</a>\u001b[0m data \u001b[39m=\u001b[39m rechunker\u001b[39m.\u001b[39;49mrechunk(ds, {\u001b[39m\"\u001b[39;49m\u001b[39mtime\u001b[39;49m\u001b[39m\"\u001b[39;49m: \u001b[39m10\u001b[39;49m, \u001b[39m\"\u001b[39;49m\u001b[39mlon\u001b[39;49m\u001b[39m\"\u001b[39;49m: \u001b[39m1000\u001b[39;49m, \u001b[39m\"\u001b[39;49m\u001b[39mlat\u001b[39;49m\u001b[39m\"\u001b[39;49m: \u001b[39m1000\u001b[39;49m}, \u001b[39m\"\u001b[39;49m\u001b[39m2GB\u001b[39;49m\u001b[39m\"\u001b[39;49m, s3store, temp_store\u001b[39m=\u001b[39;49m\u001b[39m\"\u001b[39;49m\u001b[39m/tmp/sst.zarr\u001b[39;49m\u001b[39m\"\u001b[39;49m)\n\u001b[1;32m     <a href='vscode-notebook-cell:/Users/alex/git/aodn/aodn-public-notebooks/zarr_creation/sst_zarr_creation_mfdataset.ipynb#W3sZmlsZQ%3D%3D?line=13'>14</a>\u001b[0m data\u001b[39m.\u001b[39mexecute()\n",
      "File \u001b[0;32m/usr/local/lib/python3.9/site-packages/rechunker/api.py:302\u001b[0m, in \u001b[0;36mrechunk\u001b[0;34m(source, target_chunks, max_mem, target_store, target_options, temp_store, temp_options, executor)\u001b[0m\n\u001b[1;32m    299\u001b[0m \u001b[39mif\u001b[39;00m \u001b[39misinstance\u001b[39m(executor, \u001b[39mstr\u001b[39m):\n\u001b[1;32m    300\u001b[0m     executor \u001b[39m=\u001b[39m _get_executor(executor)\n\u001b[0;32m--> 302\u001b[0m copy_spec, intermediate, target \u001b[39m=\u001b[39m _setup_rechunk(\n\u001b[1;32m    303\u001b[0m     source\u001b[39m=\u001b[39;49msource,\n\u001b[1;32m    304\u001b[0m     target_chunks\u001b[39m=\u001b[39;49mtarget_chunks,\n\u001b[1;32m    305\u001b[0m     max_mem\u001b[39m=\u001b[39;49mmax_mem,\n\u001b[1;32m    306\u001b[0m     target_store\u001b[39m=\u001b[39;49mtarget_store,\n\u001b[1;32m    307\u001b[0m     target_options\u001b[39m=\u001b[39;49mtarget_options,\n\u001b[1;32m    308\u001b[0m     temp_store\u001b[39m=\u001b[39;49mtemp_store,\n\u001b[1;32m    309\u001b[0m     temp_options\u001b[39m=\u001b[39;49mtemp_options,\n\u001b[1;32m    310\u001b[0m )\n\u001b[1;32m    311\u001b[0m plan \u001b[39m=\u001b[39m executor\u001b[39m.\u001b[39mprepare_plan(copy_spec)\n\u001b[1;32m    312\u001b[0m \u001b[39mreturn\u001b[39;00m Rechunked(executor, plan, source, intermediate, target)\n",
      "File \u001b[0;32m/usr/local/lib/python3.9/site-packages/rechunker/api.py:426\u001b[0m, in \u001b[0;36m_setup_rechunk\u001b[0;34m(source, target_chunks, max_mem, target_store, target_options, temp_store, temp_options)\u001b[0m\n\u001b[1;32m    423\u001b[0m variable_attrs \u001b[39m=\u001b[39m _encode_zarr_attributes(variable\u001b[39m.\u001b[39mattrs)\n\u001b[1;32m    424\u001b[0m variable_attrs[DIMENSION_KEY] \u001b[39m=\u001b[39m encode_zarr_attr_value(variable\u001b[39m.\u001b[39mdims)\n\u001b[0;32m--> 426\u001b[0m copy_spec \u001b[39m=\u001b[39m _setup_array_rechunk(\n\u001b[1;32m    427\u001b[0m     dask\u001b[39m.\u001b[39;49marray\u001b[39m.\u001b[39;49masarray(variable),\n\u001b[1;32m    428\u001b[0m     variable_chunks,\n\u001b[1;32m    429\u001b[0m     max_mem,\n\u001b[1;32m    430\u001b[0m     target_group,\n\u001b[1;32m    431\u001b[0m     target_options\u001b[39m=\u001b[39;49moptions,\n\u001b[1;32m    432\u001b[0m     temp_store_or_group\u001b[39m=\u001b[39;49mtemp_group,\n\u001b[1;32m    433\u001b[0m     temp_options\u001b[39m=\u001b[39;49moptions,\n\u001b[1;32m    434\u001b[0m     name\u001b[39m=\u001b[39;49mname,\n\u001b[1;32m    435\u001b[0m )\n\u001b[1;32m    436\u001b[0m copy_spec\u001b[39m.\u001b[39mwrite\u001b[39m.\u001b[39marray\u001b[39m.\u001b[39mattrs\u001b[39m.\u001b[39mupdate(variable_attrs)  \u001b[39m# type: ignore\u001b[39;00m\n\u001b[1;32m    437\u001b[0m copy_specs\u001b[39m.\u001b[39mappend(copy_spec)\n",
      "File \u001b[0;32m/usr/local/lib/python3.9/site-packages/rechunker/api.py:546\u001b[0m, in \u001b[0;36m_setup_array_rechunk\u001b[0;34m(source_array, target_chunks, max_mem, target_store_or_group, target_options, temp_store_or_group, temp_options, name)\u001b[0m\n\u001b[1;32m    543\u001b[0m int_chunks \u001b[39m=\u001b[39m \u001b[39mtuple\u001b[39m(\u001b[39mint\u001b[39m(x) \u001b[39mfor\u001b[39;00m x \u001b[39min\u001b[39;00m int_chunks)\n\u001b[1;32m    544\u001b[0m write_chunks \u001b[39m=\u001b[39m \u001b[39mtuple\u001b[39m(\u001b[39mint\u001b[39m(x) \u001b[39mfor\u001b[39;00m x \u001b[39min\u001b[39;00m write_chunks)\n\u001b[0;32m--> 546\u001b[0m target_array \u001b[39m=\u001b[39m _zarr_empty(\n\u001b[1;32m    547\u001b[0m     shape,\n\u001b[1;32m    548\u001b[0m     target_store_or_group,\n\u001b[1;32m    549\u001b[0m     target_chunks,\n\u001b[1;32m    550\u001b[0m     dtype,\n\u001b[1;32m    551\u001b[0m     name\u001b[39m=\u001b[39;49mname,\n\u001b[1;32m    552\u001b[0m     \u001b[39m*\u001b[39;49m\u001b[39m*\u001b[39;49m(target_options \u001b[39mor\u001b[39;49;00m {}),\n\u001b[1;32m    553\u001b[0m )\n\u001b[1;32m    554\u001b[0m \u001b[39mtry\u001b[39;00m:\n\u001b[1;32m    555\u001b[0m     target_array\u001b[39m.\u001b[39mattrs\u001b[39m.\u001b[39mupdate(source_array\u001b[39m.\u001b[39mattrs)\n",
      "File \u001b[0;32m/usr/local/lib/python3.9/site-packages/rechunker/api.py:153\u001b[0m, in \u001b[0;36m_zarr_empty\u001b[0;34m(shape, store_or_group, chunks, dtype, name, **kwargs)\u001b[0m\n\u001b[1;32m    151\u001b[0m \u001b[39mif\u001b[39;00m name \u001b[39mis\u001b[39;00m \u001b[39mnot\u001b[39;00m \u001b[39mNone\u001b[39;00m:\n\u001b[1;32m    152\u001b[0m     \u001b[39massert\u001b[39;00m \u001b[39misinstance\u001b[39m(store_or_group, zarr\u001b[39m.\u001b[39mhierarchy\u001b[39m.\u001b[39mGroup)\n\u001b[0;32m--> 153\u001b[0m     \u001b[39mreturn\u001b[39;00m store_or_group\u001b[39m.\u001b[39;49mempty(\n\u001b[1;32m    154\u001b[0m         name, shape\u001b[39m=\u001b[39;49mshape, chunks\u001b[39m=\u001b[39;49mchunks, dtype\u001b[39m=\u001b[39;49mdtype, \u001b[39m*\u001b[39;49m\u001b[39m*\u001b[39;49mkwargs\n\u001b[1;32m    155\u001b[0m     )\n\u001b[1;32m    156\u001b[0m \u001b[39melse\u001b[39;00m:\n\u001b[1;32m    157\u001b[0m     \u001b[39mreturn\u001b[39;00m zarr\u001b[39m.\u001b[39mempty(\n\u001b[1;32m    158\u001b[0m         shape, chunks\u001b[39m=\u001b[39mchunks, dtype\u001b[39m=\u001b[39mdtype, store\u001b[39m=\u001b[39mstore_or_group, \u001b[39m*\u001b[39m\u001b[39m*\u001b[39mkwargs\n\u001b[1;32m    159\u001b[0m     )\n",
      "File \u001b[0;32m/usr/local/lib/python3.9/site-packages/zarr/hierarchy.py:1072\u001b[0m, in \u001b[0;36mGroup.empty\u001b[0;34m(self, name, **kwargs)\u001b[0m\n\u001b[1;32m   1069\u001b[0m \u001b[39mdef\u001b[39;00m \u001b[39mempty\u001b[39m(\u001b[39mself\u001b[39m, name, \u001b[39m*\u001b[39m\u001b[39m*\u001b[39mkwargs):\n\u001b[1;32m   1070\u001b[0m     \u001b[39m\"\"\"Create an array. Keyword arguments as per\u001b[39;00m\n\u001b[1;32m   1071\u001b[0m \u001b[39m    :func:`zarr.creation.empty`.\"\"\"\u001b[39;00m\n\u001b[0;32m-> 1072\u001b[0m     \u001b[39mreturn\u001b[39;00m \u001b[39mself\u001b[39;49m\u001b[39m.\u001b[39;49m_write_op(\u001b[39mself\u001b[39;49m\u001b[39m.\u001b[39;49m_empty_nosync, name, \u001b[39m*\u001b[39;49m\u001b[39m*\u001b[39;49mkwargs)\n",
      "File \u001b[0;32m/usr/local/lib/python3.9/site-packages/zarr/hierarchy.py:827\u001b[0m, in \u001b[0;36mGroup._write_op\u001b[0;34m(self, f, *args, **kwargs)\u001b[0m\n\u001b[1;32m    824\u001b[0m     lock \u001b[39m=\u001b[39m \u001b[39mself\u001b[39m\u001b[39m.\u001b[39m_synchronizer[group_meta_key]\n\u001b[1;32m    826\u001b[0m \u001b[39mwith\u001b[39;00m lock:\n\u001b[0;32m--> 827\u001b[0m     \u001b[39mreturn\u001b[39;00m f(\u001b[39m*\u001b[39;49margs, \u001b[39m*\u001b[39;49m\u001b[39m*\u001b[39;49mkwargs)\n",
      "File \u001b[0;32m/usr/local/lib/python3.9/site-packages/zarr/hierarchy.py:1078\u001b[0m, in \u001b[0;36mGroup._empty_nosync\u001b[0;34m(self, name, **kwargs)\u001b[0m\n\u001b[1;32m   1076\u001b[0m kwargs\u001b[39m.\u001b[39msetdefault(\u001b[39m'\u001b[39m\u001b[39msynchronizer\u001b[39m\u001b[39m'\u001b[39m, \u001b[39mself\u001b[39m\u001b[39m.\u001b[39m_synchronizer)\n\u001b[1;32m   1077\u001b[0m kwargs\u001b[39m.\u001b[39msetdefault(\u001b[39m'\u001b[39m\u001b[39mcache_attrs\u001b[39m\u001b[39m'\u001b[39m, \u001b[39mself\u001b[39m\u001b[39m.\u001b[39mattrs\u001b[39m.\u001b[39mcache)\n\u001b[0;32m-> 1078\u001b[0m \u001b[39mreturn\u001b[39;00m empty(store\u001b[39m=\u001b[39;49m\u001b[39mself\u001b[39;49m\u001b[39m.\u001b[39;49m_store, path\u001b[39m=\u001b[39;49mpath, chunk_store\u001b[39m=\u001b[39;49m\u001b[39mself\u001b[39;49m\u001b[39m.\u001b[39;49m_chunk_store,\n\u001b[1;32m   1079\u001b[0m              \u001b[39m*\u001b[39;49m\u001b[39m*\u001b[39;49mkwargs)\n",
      "File \u001b[0;32m/usr/local/lib/python3.9/site-packages/zarr/creation.py:258\u001b[0m, in \u001b[0;36mempty\u001b[0;34m(shape, **kwargs)\u001b[0m\n\u001b[1;32m    246\u001b[0m \u001b[39mdef\u001b[39;00m \u001b[39mempty\u001b[39m(shape, \u001b[39m*\u001b[39m\u001b[39m*\u001b[39mkwargs):\n\u001b[1;32m    247\u001b[0m     \u001b[39m\"\"\"Create an empty array.\u001b[39;00m\n\u001b[1;32m    248\u001b[0m \n\u001b[1;32m    249\u001b[0m \u001b[39m    For parameter definitions see :func:`zarr.creation.create`.\u001b[39;00m\n\u001b[0;32m   (...)\u001b[0m\n\u001b[1;32m    256\u001b[0m \n\u001b[1;32m    257\u001b[0m \u001b[39m    \"\"\"\u001b[39;00m\n\u001b[0;32m--> 258\u001b[0m     \u001b[39mreturn\u001b[39;00m create(shape\u001b[39m=\u001b[39;49mshape, fill_value\u001b[39m=\u001b[39;49m\u001b[39mNone\u001b[39;49;00m, \u001b[39m*\u001b[39;49m\u001b[39m*\u001b[39;49mkwargs)\n",
      "File \u001b[0;32m/usr/local/lib/python3.9/site-packages/zarr/creation.py:169\u001b[0m, in \u001b[0;36mcreate\u001b[0;34m(shape, chunks, dtype, compressor, fill_value, order, store, synchronizer, overwrite, path, chunk_store, filters, cache_metadata, cache_attrs, read_only, object_codec, dimension_separator, write_empty_chunks, zarr_version, meta_array, **kwargs)\u001b[0m\n\u001b[1;32m    166\u001b[0m     path \u001b[39m=\u001b[39m \u001b[39m'\u001b[39m\u001b[39m/\u001b[39m\u001b[39m'\u001b[39m\n\u001b[1;32m    168\u001b[0m \u001b[39m# initialize array metadata\u001b[39;00m\n\u001b[0;32m--> 169\u001b[0m init_array(store, shape\u001b[39m=\u001b[39;49mshape, chunks\u001b[39m=\u001b[39;49mchunks, dtype\u001b[39m=\u001b[39;49mdtype, compressor\u001b[39m=\u001b[39;49mcompressor,\n\u001b[1;32m    170\u001b[0m            fill_value\u001b[39m=\u001b[39;49mfill_value, order\u001b[39m=\u001b[39;49morder, overwrite\u001b[39m=\u001b[39;49moverwrite, path\u001b[39m=\u001b[39;49mpath,\n\u001b[1;32m    171\u001b[0m            chunk_store\u001b[39m=\u001b[39;49mchunk_store, filters\u001b[39m=\u001b[39;49mfilters, object_codec\u001b[39m=\u001b[39;49mobject_codec,\n\u001b[1;32m    172\u001b[0m            dimension_separator\u001b[39m=\u001b[39;49mdimension_separator)\n\u001b[1;32m    174\u001b[0m \u001b[39m# instantiate array\u001b[39;00m\n\u001b[1;32m    175\u001b[0m z \u001b[39m=\u001b[39m Array(store, path\u001b[39m=\u001b[39mpath, chunk_store\u001b[39m=\u001b[39mchunk_store, synchronizer\u001b[39m=\u001b[39msynchronizer,\n\u001b[1;32m    176\u001b[0m           cache_metadata\u001b[39m=\u001b[39mcache_metadata, cache_attrs\u001b[39m=\u001b[39mcache_attrs, read_only\u001b[39m=\u001b[39mread_only,\n\u001b[1;32m    177\u001b[0m           write_empty_chunks\u001b[39m=\u001b[39mwrite_empty_chunks, meta_array\u001b[39m=\u001b[39mmeta_array)\n",
      "File \u001b[0;32m/usr/local/lib/python3.9/site-packages/zarr/storage.py:426\u001b[0m, in \u001b[0;36minit_array\u001b[0;34m(store, shape, chunks, dtype, compressor, fill_value, order, overwrite, path, chunk_store, filters, object_codec, dimension_separator)\u001b[0m\n\u001b[1;32m    423\u001b[0m \u001b[39mif\u001b[39;00m \u001b[39mnot\u001b[39;00m compressor:\n\u001b[1;32m    424\u001b[0m     \u001b[39m# compatibility with legacy tests using compressor=[]\u001b[39;00m\n\u001b[1;32m    425\u001b[0m     compressor \u001b[39m=\u001b[39m \u001b[39mNone\u001b[39;00m\n\u001b[0;32m--> 426\u001b[0m _init_array_metadata(store, shape\u001b[39m=\u001b[39;49mshape, chunks\u001b[39m=\u001b[39;49mchunks, dtype\u001b[39m=\u001b[39;49mdtype,\n\u001b[1;32m    427\u001b[0m                      compressor\u001b[39m=\u001b[39;49mcompressor, fill_value\u001b[39m=\u001b[39;49mfill_value,\n\u001b[1;32m    428\u001b[0m                      order\u001b[39m=\u001b[39;49morder, overwrite\u001b[39m=\u001b[39;49moverwrite, path\u001b[39m=\u001b[39;49mpath,\n\u001b[1;32m    429\u001b[0m                      chunk_store\u001b[39m=\u001b[39;49mchunk_store, filters\u001b[39m=\u001b[39;49mfilters,\n\u001b[1;32m    430\u001b[0m                      object_codec\u001b[39m=\u001b[39;49mobject_codec,\n\u001b[1;32m    431\u001b[0m                      dimension_separator\u001b[39m=\u001b[39;49mdimension_separator)\n",
      "File \u001b[0;32m/usr/local/lib/python3.9/site-packages/zarr/storage.py:485\u001b[0m, in \u001b[0;36m_init_array_metadata\u001b[0;34m(store, shape, chunks, dtype, compressor, fill_value, order, overwrite, path, chunk_store, filters, object_codec, dimension_separator)\u001b[0m\n\u001b[1;32m    483\u001b[0m \u001b[39mif\u001b[39;00m \u001b[39mnot\u001b[39;00m overwrite:\n\u001b[1;32m    484\u001b[0m     \u001b[39mif\u001b[39;00m contains_array(store, path):\n\u001b[0;32m--> 485\u001b[0m         \u001b[39mraise\u001b[39;00m ContainsArrayError(path)\n\u001b[1;32m    486\u001b[0m     \u001b[39melif\u001b[39;00m contains_group(store, path, explicit_only\u001b[39m=\u001b[39m\u001b[39mFalse\u001b[39;00m):\n\u001b[1;32m    487\u001b[0m         \u001b[39mraise\u001b[39;00m ContainsGroupError(path)\n",
      "\u001b[0;31mContainsArrayError\u001b[0m: path 'lat' contains an array"
     ]
    }
   ],
   "source": [
    "first_file = True\n",
    "for files_subset in partition(10, files):\n",
    "    paths = [s3.open(file) for file in files_subset]\n",
    "    ds = xr.open_mfdataset(paths, engine=\"h5netcdf\", chunks={\"time\": 10, \"lon\": 1000, \"lat\": 1000})\n",
    "    available_vars = set(ds.variables)\n",
    "    to_drop_vars = list(available_vars - CONSISTENT_VARS)\n",
    "    ds = ds.drop_vars(to_drop_vars)\n",
    "\n",
    "    # ds.chunks = {\"time\": 10, \"lon\": 1000, \"lat\": 1000}\n",
    "\n",
    "    if first_file:\n",
    "        ds.to_zarr(store_path, mode=\"w\", consolidated=True)\n",
    "    else:\n",
    "        ds.to_zarr(store_path, mode=\"a\", append_dim=\"time\" consolidated=True)\n",
    "\n"
   ]
  },
  {
   "cell_type": "code",
   "execution_count": null,
   "metadata": {},
   "outputs": [],
   "source": []
  }
 ],
 "metadata": {
  "kernelspec": {
   "display_name": "Python 3.9.13 64-bit",
   "language": "python",
   "name": "python3"
  },
  "language_info": {
   "codemirror_mode": {
    "name": "ipython",
    "version": 3
   },
   "file_extension": ".py",
   "mimetype": "text/x-python",
   "name": "python",
   "nbconvert_exporter": "python",
   "pygments_lexer": "ipython3",
   "version": "3.9.13"
  },
  "orig_nbformat": 4,
  "vscode": {
   "interpreter": {
    "hash": "aee8b7b246df8f9039afb4144a1f6fd8d2ca17a180786b69acc140d282b71a49"
   }
  }
 },
 "nbformat": 4,
 "nbformat_minor": 2
}
