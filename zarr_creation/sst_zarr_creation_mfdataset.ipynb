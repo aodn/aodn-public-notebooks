{
 "cells": [
  {
   "cell_type": "code",
   "execution_count": 1,
   "metadata": {},
   "outputs": [],
   "source": [
    "import s3fs\n",
    "import xarray as xr\n",
    "from toolz import partition\n"
   ]
  },
  {
   "cell_type": "code",
   "execution_count": 2,
   "metadata": {},
   "outputs": [],
   "source": [
    "CONSISTENT_VARS = {\n",
    "    \"time\",\n",
    "    \"lat\",\n",
    "    \"lon\",\n",
    "    \"dt_analysis\",\n",
    "    \"l2p_flags\",\n",
    "    \"quality_level\",\n",
    "    \"satellite_zenith_angle\",\n",
    "    \"sea_surface_temperature\",\n",
    "    \"sses_bias\",\n",
    "    \"sses_count\",\n",
    "    \"sses_standard_deviation\",\n",
    "    \"sst_dtime\",\n",
    "}"
   ]
  },
  {
   "cell_type": "code",
   "execution_count": 3,
   "metadata": {},
   "outputs": [],
   "source": [
    "source_path = \"s3://imos-data/IMOS/SRS/SST/ghrsst/L3S-1d/day/2022/*.nc\"\n",
    "store_path = \"s3://imos-data-pixeldrill/alexl/sst_allatonce/\""
   ]
  },
  {
   "cell_type": "code",
   "execution_count": 4,
   "metadata": {},
   "outputs": [],
   "source": [
    "s3 = s3fs.S3FileSystem(anon=False)\n",
    "files = s3.glob(source_path)"
   ]
  },
  {
   "cell_type": "code",
   "execution_count": 7,
   "metadata": {},
   "outputs": [],
   "source": [
    "first_file = True\n",
    "completed = 0\n",
    "for files_subset in partition(10, files):\n",
    "    paths = [s3.open(file) for file in files_subset]\n",
    "    ds = xr.open_mfdataset(paths, engine=\"h5netcdf\", chunks={\"time\": 10, \"lon\": 1000, \"lat\": 1000})\n",
    "    available_vars = set(ds.variables)\n",
    "    to_drop_vars = list(available_vars - CONSISTENT_VARS)\n",
    "    ds = ds.drop_vars(to_drop_vars)\n",
    "\n",
    "    # ds.chunks = {\"time\": 10, \"lon\": 1000, \"lat\": 1000}\n",
    "\n",
    "    if first_file:\n",
    "        ds.to_zarr(store_path, mode=\"w\", consolidated=True)\n",
    "        first_file = False\n",
    "    else:\n",
    "        ds.to_zarr(store_path, mode=\"a\", append_dim=\"time\", consolidated=True)\n",
    "\n"
   ]
  },
  {
   "cell_type": "code",
   "execution_count": null,
   "metadata": {},
   "outputs": [],
   "source": []
  }
 ],
 "metadata": {
  "kernelspec": {
   "display_name": "Python 3.9.13 64-bit",
   "language": "python",
   "name": "python3"
  },
  "language_info": {
   "codemirror_mode": {
    "name": "ipython",
    "version": 3
   },
   "file_extension": ".py",
   "mimetype": "text/x-python",
   "name": "python",
   "nbconvert_exporter": "python",
   "pygments_lexer": "ipython3",
   "version": "3.9.13"
  },
  "orig_nbformat": 4,
  "vscode": {
   "interpreter": {
    "hash": "aee8b7b246df8f9039afb4144a1f6fd8d2ca17a180786b69acc140d282b71a49"
   }
  }
 },
 "nbformat": 4,
 "nbformat_minor": 2
}
